{
 "cells": [
  {
   "cell_type": "code",
   "execution_count": 77,
   "metadata": {},
   "outputs": [],
   "source": [
    "from IPython.parallel import Client\n",
    "from mpi4py import MPI\n",
    "import numpy as np\n",
    "\n",
    "# get a view at the cluster\n",
    "\n",
    "c = Client(profile='mpi')\n",
    "view = c[:]\n",
    "view.activate()"
   ]
  },
  {
   "cell_type": "code",
   "execution_count": 78,
   "metadata": {},
   "outputs": [
    {
     "data": {
      "text/plain": [
       "<AsyncResult: execute>"
      ]
     },
     "execution_count": 78,
     "metadata": {},
     "output_type": "execute_result"
    }
   ],
   "source": [
    "# example of parallel execution using ipython magics\n",
    "\n",
    "%px rank = MPI.COMM_WORLD.rank"
   ]
  },
  {
   "cell_type": "code",
   "execution_count": 79,
   "metadata": {},
   "outputs": [
    {
     "data": {
      "text/plain": [
       "[0, 1, 2, 3]"
      ]
     },
     "execution_count": 79,
     "metadata": {},
     "output_type": "execute_result"
    }
   ],
   "source": [
    "# inspect the result on each engine\n",
    "\n",
    "view['rank']"
   ]
  },
  {
   "cell_type": "code",
   "execution_count": 99,
   "metadata": {},
   "outputs": [
    {
     "data": {
      "text/plain": [
       "\u001b[0;31mOut[0:7]: \u001b[0m0"
      ]
     },
     "metadata": {
      "after": [],
      "completed": "2019-08-05T16:28:59.669916",
      "data": {},
      "engine_id": 0,
      "engine_uuid": "ed6af376-322d710b4059cfd4abcd1e33",
      "error": null,
      "execute_input": "MPI.COMM_WORLD.rank",
      "execute_result": {
       "data": {
        "text/plain": "0"
       },
       "execution_count": 7,
       "metadata": {}
      },
      "follow": [],
      "msg_id": "821f4ce1-c0dacb63228fed81dd0233d3",
      "outputs": [],
      "received": "2019-08-05T16:28:59.674115",
      "started": "2019-08-05T16:28:59.662262",
      "status": "ok",
      "stderr": "",
      "stdout": "",
      "submitted": "2019-08-05T16:28:59.658553"
     },
     "output_type": "display_data"
    },
    {
     "data": {
      "text/plain": [
       "\u001b[0;31mOut[1:7]: \u001b[0m1"
      ]
     },
     "metadata": {
      "after": [],
      "completed": "2019-08-05T16:28:59.677325",
      "data": {},
      "engine_id": 1,
      "engine_uuid": "b40dbffb-923e3f126bb8b887cbc5928e",
      "error": null,
      "execute_input": "MPI.COMM_WORLD.rank",
      "execute_result": {
       "data": {
        "text/plain": "1"
       },
       "execution_count": 7,
       "metadata": {}
      },
      "follow": [],
      "msg_id": "9ca95187-0cc8b84434d1ad6798341c97",
      "outputs": [],
      "received": "2019-08-05T16:28:59.679780",
      "started": "2019-08-05T16:28:59.664649",
      "status": "ok",
      "stderr": "",
      "stdout": "",
      "submitted": "2019-08-05T16:28:59.659008"
     },
     "output_type": "display_data"
    },
    {
     "data": {
      "text/plain": [
       "\u001b[0;31mOut[2:7]: \u001b[0m2"
      ]
     },
     "metadata": {
      "after": [],
      "completed": "2019-08-05T16:28:59.680556",
      "data": {},
      "engine_id": 2,
      "engine_uuid": "c863f083-ea4a0966b4ade11de32f4828",
      "error": null,
      "execute_input": "MPI.COMM_WORLD.rank",
      "execute_result": {
       "data": {
        "text/plain": "2"
       },
       "execution_count": 7,
       "metadata": {}
      },
      "follow": [],
      "msg_id": "1aef7738-ddd953aedb485baa4d0e2391",
      "outputs": [],
      "received": "2019-08-05T16:28:59.682279",
      "started": "2019-08-05T16:28:59.664662",
      "status": "ok",
      "stderr": "",
      "stdout": "",
      "submitted": "2019-08-05T16:28:59.659230"
     },
     "output_type": "display_data"
    },
    {
     "data": {
      "text/plain": [
       "\u001b[0;31mOut[3:7]: \u001b[0m3"
      ]
     },
     "metadata": {
      "after": [],
      "completed": "2019-08-05T16:28:59.675140",
      "data": {},
      "engine_id": 3,
      "engine_uuid": "3f8eac73-e1dd41ab106df5548a614a79",
      "error": null,
      "execute_input": "MPI.COMM_WORLD.rank",
      "execute_result": {
       "data": {
        "text/plain": "3"
       },
       "execution_count": 7,
       "metadata": {}
      },
      "follow": [],
      "msg_id": "a024c213-6b6d6e34478f325d09a13593",
      "outputs": [],
      "received": "2019-08-05T16:28:59.678786",
      "started": "2019-08-05T16:28:59.664495",
      "status": "ok",
      "stderr": "",
      "stdout": "",
      "submitted": "2019-08-05T16:28:59.659440"
     },
     "output_type": "display_data"
    }
   ],
   "source": [
    "# or use call and response\n",
    "%px MPI.COMM_WORLD.rank\n",
    "%pxresult"
   ]
  },
  {
   "cell_type": "code",
   "execution_count": null,
   "metadata": {},
   "outputs": [],
   "source": [
    "# execute a file in parallel on each engine\n",
    "\n",
    "view.run('psum.py')"
   ]
  },
  {
   "cell_type": "code",
   "execution_count": null,
   "metadata": {},
   "outputs": [],
   "source": [
    "# scatter out an array using the ipyparallel abstraction\n",
    "view.scatter('a', np.arange(256, dtype=float))"
   ]
  },
  {
   "cell_type": "code",
   "execution_count": 97,
   "metadata": {},
   "outputs": [],
   "source": [
    "# a more complex command from the file\n",
    "%px total = psum(a)"
   ]
  },
  {
   "cell_type": "code",
   "execution_count": 92,
   "metadata": {},
   "outputs": [
    {
     "data": {
      "text/plain": [
       "[array(32640.), array(32640.), array(32640.), array(32640.)]"
      ]
     },
     "execution_count": 92,
     "metadata": {},
     "output_type": "execute_result"
    }
   ],
   "source": [
    "# see the result\n",
    "view['total']"
   ]
  }
 ],
 "metadata": {
  "kernelspec": {
   "display_name": "Python 3",
   "language": "python",
   "name": "python3"
  },
  "language_info": {
   "codemirror_mode": {
    "name": "ipython",
    "version": 3
   },
   "file_extension": ".py",
   "mimetype": "text/x-python",
   "name": "python",
   "nbconvert_exporter": "python",
   "pygments_lexer": "ipython3",
   "version": "3.5.2"
  },
  "toc": {
   "base_numbering": 1,
   "nav_menu": {},
   "number_sections": true,
   "sideBar": true,
   "skip_h1_title": false,
   "title_cell": "Table of Contents",
   "title_sidebar": "Contents",
   "toc_cell": false,
   "toc_position": {},
   "toc_section_display": true,
   "toc_window_display": false
  }
 },
 "nbformat": 4,
 "nbformat_minor": 2
}
